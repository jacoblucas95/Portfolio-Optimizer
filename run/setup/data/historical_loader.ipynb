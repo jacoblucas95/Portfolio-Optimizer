{
 "cells": [
  {
   "cell_type": "code",
   "execution_count": 1,
   "metadata": {},
   "outputs": [],
   "source": [
    "import json, requests\n",
    "import os\n",
    "import numpy as np\n",
    "import pandas as pd"
   ]
  },
  {
   "cell_type": "code",
   "execution_count": 2,
   "metadata": {},
   "outputs": [],
   "source": [
    "API_KEY = 'JRLUCAS'"
   ]
  },
  {
   "cell_type": "code",
   "execution_count": 9,
   "metadata": {},
   "outputs": [],
   "source": [
    "def get_price_history(symbols):\n",
    "    candle_list = []\n",
    "    df_dict = {}\n",
    "    for symbol in symbols:\n",
    "        API_URL = r'https://api.tdameritrade.com/v1/marketdata/{}/pricehistory'.format(symbol)\n",
    "        params = {\n",
    "            'apikey': API_KEY,\n",
    "            'periodType': 'year',\n",
    "            'period': 1,\n",
    "            'frequencyType': 'daily',\n",
    "            'frequency': 1,\n",
    "            'needExtendedHoursData': 'false'\n",
    "        }\n",
    "\n",
    "        content = requests.get(url=(API_URL),params=params).text\n",
    "\n",
    "        data = json.loads(content)\n",
    "        candle_list.append(data)\n",
    "        for i in candle_list:\n",
    "            df = pd.DataFrame.from_dict(i['candles'])\n",
    "            pickle_name = symbol\n",
    "            pickle_path = os.path.join(os.path.join(os.path.dirname(os.getcwd()), 'data', pickle_name + '.pickle'))\n",
    "            df.to_pickle(pickle_path)"
   ]
  },
  {
   "cell_type": "code",
   "execution_count": 10,
   "metadata": {},
   "outputs": [],
   "source": [
    "etf_list = ['VTI','VEA', 'VWO', 'VNQ', 'XLE', 'BND', 'SCHP', 'VTEB', 'VIG']"
   ]
  },
  {
   "cell_type": "code",
   "execution_count": 11,
   "metadata": {},
   "outputs": [],
   "source": [
    "get_price_history(etf_list)"
   ]
  },
  {
   "cell_type": "code",
   "execution_count": 12,
   "metadata": {},
   "outputs": [],
   "source": [
    "pickle_list = []\n",
    "for etf in etf_list:\n",
    "    pickle_name = etf + '.pickle'\n",
    "    pickle_list.append(pickle_name)\n"
   ]
  },
  {
   "cell_type": "code",
   "execution_count": 13,
   "metadata": {},
   "outputs": [],
   "source": [
    "df_list = []\n",
    "for etf in pickle_list:\n",
    "    df_name = 'df_' + etf[0:2]\n",
    "    df_name = pd.read_pickle(etf)\n",
    "    df_list.append(df_name)"
   ]
  },
  {
   "cell_type": "code",
   "execution_count": null,
   "metadata": {},
   "outputs": [],
   "source": [
    "for df in df_list:\n",
    "    df['Normed Return'] = df['close'] / df.iloc[0]['close']\n",
    "    df['Allocation'] = df['Normed Return'] * (1/9)\n",
    "    pos_col = '{} Pos'.format(df['s'])\n",
    "    v[pos_col] = v['Allocation'] * 100000"
   ]
  },
  {
   "cell_type": "code",
   "execution_count": null,
   "metadata": {},
   "outputs": [],
   "source": [
    "pos_ls = []\n",
    "for k,v in df_dict.items():\n",
    "    pos_ls.append(v.iloc[:,8])"
   ]
  },
  {
   "cell_type": "code",
   "execution_count": null,
   "metadata": {},
   "outputs": [],
   "source": [
    "portfolio_val = pd.concat(pos_ls, axis=1)"
   ]
  },
  {
   "cell_type": "code",
   "execution_count": null,
   "metadata": {},
   "outputs": [],
   "source": [
    "portfolio_val['Total'] = portfolio_val.sum(axis=1)"
   ]
  },
  {
   "cell_type": "code",
   "execution_count": null,
   "metadata": {},
   "outputs": [],
   "source": [
    "portfolio_val.head()"
   ]
  },
  {
   "cell_type": "code",
   "execution_count": null,
   "metadata": {},
   "outputs": [],
   "source": [
    "import matplotlib.pyplot as plt\n",
    "%matplotlib inline"
   ]
  },
  {
   "cell_type": "code",
   "execution_count": null,
   "metadata": {},
   "outputs": [],
   "source": [
    "portfolio_val['Total'].plot(figsize=(10,8))\n",
    "plt.title('Total')"
   ]
  },
  {
   "cell_type": "code",
   "execution_count": null,
   "metadata": {},
   "outputs": [],
   "source": [
    "portfolio_val.drop('Total',axis=1).plot(kind='line')"
   ]
  },
  {
   "cell_type": "code",
   "execution_count": null,
   "metadata": {},
   "outputs": [],
   "source": [
    "portfolio_val['Daily Return'] = portfolio_val['Total'].pct_change(1)"
   ]
  },
  {
   "cell_type": "code",
   "execution_count": null,
   "metadata": {},
   "outputs": [],
   "source": [
    "portfolio_val.head()"
   ]
  },
  {
   "cell_type": "code",
   "execution_count": null,
   "metadata": {},
   "outputs": [],
   "source": [
    "portfolio_val['Daily Return'].plot(kind='kde',figsize=(4,5))"
   ]
  },
  {
   "cell_type": "code",
   "execution_count": null,
   "metadata": {},
   "outputs": [],
   "source": [
    "cumulative_return = 100 * (portfolio_val['Total'].iloc[-1]/portfolio_val['Total'][0] - 1)"
   ]
  },
  {
   "cell_type": "code",
   "execution_count": null,
   "metadata": {},
   "outputs": [],
   "source": [
    "cumulative_return"
   ]
  },
  {
   "cell_type": "code",
   "execution_count": null,
   "metadata": {},
   "outputs": [],
   "source": [
    "SR = portfolio_val['Daily Return'].mean() / portfolio_val['Daily Return'].std()"
   ]
  },
  {
   "cell_type": "code",
   "execution_count": null,
   "metadata": {},
   "outputs": [],
   "source": [
    "ASR = SR * (252**0.5)"
   ]
  },
  {
   "cell_type": "code",
   "execution_count": null,
   "metadata": {},
   "outputs": [],
   "source": [
    "ASR"
   ]
  },
  {
   "cell_type": "code",
   "execution_count": null,
   "metadata": {},
   "outputs": [],
   "source": []
  },
  {
   "cell_type": "code",
   "execution_count": null,
   "metadata": {},
   "outputs": [],
   "source": []
  }
 ],
 "metadata": {
  "kernelspec": {
   "display_name": "Python 3",
   "language": "python",
   "name": "python3"
  },
  "language_info": {
   "codemirror_mode": {
    "name": "ipython",
    "version": 3
   },
   "file_extension": ".py",
   "mimetype": "text/x-python",
   "name": "python",
   "nbconvert_exporter": "python",
   "pygments_lexer": "ipython3",
   "version": "3.6.8"
  }
 },
 "nbformat": 4,
 "nbformat_minor": 2
}
