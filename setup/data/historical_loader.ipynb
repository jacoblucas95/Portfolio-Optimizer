{
 "cells": [
  {
   "cell_type": "code",
   "execution_count": 1,
   "metadata": {},
   "outputs": [],
   "source": [
    "import json, requests\n",
    "import os\n",
    "import numpy as np\n",
    "import pandas as pd"
   ]
  },
  {
   "cell_type": "code",
   "execution_count": 2,
   "metadata": {},
   "outputs": [],
   "source": [
    "API_KEY = 'JRLUCAS'"
   ]
  },
  {
   "cell_type": "code",
   "execution_count": 3,
   "metadata": {},
   "outputs": [],
   "source": [
    "def get_price_history(symbols):\n",
    "    candle_list = []\n",
    "    df_dict = {}\n",
    "    for symbol in symbols:\n",
    "        API_URL = r'https://api.tdameritrade.com/v1/marketdata/{}/pricehistory'.format(symbol)\n",
    "        params = {\n",
    "            'apikey': API_KEY,\n",
    "            'periodType': 'year',\n",
    "            'period': 5,\n",
    "            'frequencyType': 'daily',\n",
    "            'frequency': 1,\n",
    "            'needExtendedHoursData': 'false'\n",
    "        }\n",
    "\n",
    "        content = requests.get(url=(API_URL),params=params).text\n",
    "\n",
    "        data = json.loads(content)\n",
    "        candle_list.append(data)\n",
    "        for i in candle_list:\n",
    "            df = pd.DataFrame.from_dict(i['candles'])\n",
    "            pickle_name = symbol\n",
    "            pickle_path = os.path.join(os.path.join(os.path.dirname(os.getcwd()), 'data', pickle_name + '.pickle'))\n",
    "            df.to_pickle(pickle_path)"
   ]
  },
  {
   "cell_type": "code",
   "execution_count": 4,
   "metadata": {},
   "outputs": [],
   "source": [
    "etf_list = ['VTI','VEA', 'VWO', 'VNQ', 'XLE', 'BND', 'SCHP', 'VTEB', 'VIG']"
   ]
  },
  {
   "cell_type": "code",
   "execution_count": 5,
   "metadata": {},
   "outputs": [],
   "source": [
    "get_price_history(etf_list)"
   ]
  },
  {
   "cell_type": "code",
   "execution_count": null,
   "metadata": {},
   "outputs": [],
   "source": []
  }
 ],
 "metadata": {
  "kernelspec": {
   "display_name": "Python 3",
   "language": "python",
   "name": "python3"
  },
  "language_info": {
   "codemirror_mode": {
    "name": "ipython",
    "version": 3
   },
   "file_extension": ".py",
   "mimetype": "text/x-python",
   "name": "python",
   "nbconvert_exporter": "python",
   "pygments_lexer": "ipython3",
   "version": "3.6.8"
  }
 },
 "nbformat": 4,
 "nbformat_minor": 2
}
