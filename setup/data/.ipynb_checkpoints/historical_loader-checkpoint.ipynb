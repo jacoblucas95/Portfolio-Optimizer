{
 "cells": [
  {
   "cell_type": "code",
   "execution_count": 25,
   "metadata": {},
   "outputs": [],
   "source": [
    "import json, requests\n",
    "import numpy as np\n",
    "import pandas as pd"
   ]
  },
  {
   "cell_type": "code",
   "execution_count": 26,
   "metadata": {},
   "outputs": [],
   "source": [
    "API_KEY = 'JRLUCAS'"
   ]
  },
  {
   "cell_type": "code",
   "execution_count": 50,
   "metadata": {},
   "outputs": [],
   "source": [
    "def get_price_history(symbol):\n",
    "    API_URL = r'https://api.tdameritrade.com/v1/marketdata/{}/pricehistory'.format(symbol)\n",
    "    params = {\n",
    "        'apikey': API_KEY,\n",
    "        'periodType': 'year',\n",
    "        'period': 1,\n",
    "        'frequencyType': 'daily',\n",
    "        'frequency': 1,\n",
    "        'needExtendedHoursData': 'false'\n",
    "    }\n",
    "    \n",
    "    content = requests.get(url=(API_URL),params=params).text\n",
    "    \n",
    "    data = json.loads(content)\n",
    "    return data"
   ]
  },
  {
   "cell_type": "code",
   "execution_count": 54,
   "metadata": {},
   "outputs": [],
   "source": [
    "x = get_price_history('VEA')['candles']"
   ]
  },
  {
   "cell_type": "code",
   "execution_count": 55,
   "metadata": {},
   "outputs": [],
   "source": [
    "df = pd.DataFrame.from_dict(x)"
   ]
  },
  {
   "cell_type": "code",
   "execution_count": 57,
   "metadata": {},
   "outputs": [
    {
     "data": {
      "text/html": [
       "<div>\n",
       "<style scoped>\n",
       "    .dataframe tbody tr th:only-of-type {\n",
       "        vertical-align: middle;\n",
       "    }\n",
       "\n",
       "    .dataframe tbody tr th {\n",
       "        vertical-align: top;\n",
       "    }\n",
       "\n",
       "    .dataframe thead th {\n",
       "        text-align: right;\n",
       "    }\n",
       "</style>\n",
       "<table border=\"1\" class=\"dataframe\">\n",
       "  <thead>\n",
       "    <tr style=\"text-align: right;\">\n",
       "      <th></th>\n",
       "      <th>close</th>\n",
       "      <th>datetime</th>\n",
       "      <th>high</th>\n",
       "      <th>low</th>\n",
       "      <th>open</th>\n",
       "      <th>volume</th>\n",
       "    </tr>\n",
       "  </thead>\n",
       "  <tbody>\n",
       "    <tr>\n",
       "      <th>0</th>\n",
       "      <td>44.70</td>\n",
       "      <td>1528088400000</td>\n",
       "      <td>44.89</td>\n",
       "      <td>44.6700</td>\n",
       "      <td>44.84</td>\n",
       "      <td>6324907</td>\n",
       "    </tr>\n",
       "    <tr>\n",
       "      <th>1</th>\n",
       "      <td>44.65</td>\n",
       "      <td>1528174800000</td>\n",
       "      <td>44.72</td>\n",
       "      <td>44.5200</td>\n",
       "      <td>44.71</td>\n",
       "      <td>14417255</td>\n",
       "    </tr>\n",
       "    <tr>\n",
       "      <th>2</th>\n",
       "      <td>45.03</td>\n",
       "      <td>1528261200000</td>\n",
       "      <td>45.04</td>\n",
       "      <td>44.7300</td>\n",
       "      <td>44.81</td>\n",
       "      <td>5836690</td>\n",
       "    </tr>\n",
       "    <tr>\n",
       "      <th>3</th>\n",
       "      <td>44.77</td>\n",
       "      <td>1528347600000</td>\n",
       "      <td>45.08</td>\n",
       "      <td>44.7000</td>\n",
       "      <td>45.08</td>\n",
       "      <td>7712962</td>\n",
       "    </tr>\n",
       "    <tr>\n",
       "      <th>4</th>\n",
       "      <td>44.85</td>\n",
       "      <td>1528434000000</td>\n",
       "      <td>44.90</td>\n",
       "      <td>44.6348</td>\n",
       "      <td>44.78</td>\n",
       "      <td>7188889</td>\n",
       "    </tr>\n",
       "  </tbody>\n",
       "</table>\n",
       "</div>"
      ],
      "text/plain": [
       "   close       datetime   high      low   open    volume\n",
       "0  44.70  1528088400000  44.89  44.6700  44.84   6324907\n",
       "1  44.65  1528174800000  44.72  44.5200  44.71  14417255\n",
       "2  45.03  1528261200000  45.04  44.7300  44.81   5836690\n",
       "3  44.77  1528347600000  45.08  44.7000  45.08   7712962\n",
       "4  44.85  1528434000000  44.90  44.6348  44.78   7188889"
      ]
     },
     "execution_count": 57,
     "metadata": {},
     "output_type": "execute_result"
    }
   ],
   "source": [
    "df.head()"
   ]
  },
  {
   "cell_type": "code",
   "execution_count": 58,
   "metadata": {},
   "outputs": [],
   "source": [
    "etf_list = ['VTI','VEA', 'VWO', 'VNQ', 'XLE', 'BND', 'SCHP', 'VTEB', 'VIG']"
   ]
  },
  {
   "cell_type": "code",
   "execution_count": null,
   "metadata": {},
   "outputs": [],
   "source": []
  }
 ],
 "metadata": {
  "kernelspec": {
   "display_name": "Python 3",
   "language": "python",
   "name": "python3"
  },
  "language_info": {
   "codemirror_mode": {
    "name": "ipython",
    "version": 3
   },
   "file_extension": ".py",
   "mimetype": "text/x-python",
   "name": "python",
   "nbconvert_exporter": "python",
   "pygments_lexer": "ipython3",
   "version": "3.6.8"
  }
 },
 "nbformat": 4,
 "nbformat_minor": 2
}
